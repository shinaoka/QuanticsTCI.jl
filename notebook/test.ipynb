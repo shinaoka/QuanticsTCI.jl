{
 "cells": [
  {
   "cell_type": "code",
   "execution_count": null,
   "metadata": {},
   "outputs": [],
   "source": [
    "using Revise\n",
    "using QuanticsTCI\n",
    "using Test\n",
    "using StaticArrays\n",
    "using BenchmarkTools"
   ]
  },
  {
   "cell_type": "code",
   "execution_count": null,
   "metadata": {},
   "outputs": [],
   "source": [
    "R = 10\n",
    "d = 3\n",
    "B = 4\n",
    "\n",
    "# Grid on [1, 2, ..., d^R]\n",
    "grid = QuanticsTCI.InherentDiscreteGrid{d,B}(R)"
   ]
  },
  {
   "cell_type": "code",
   "execution_count": null,
   "metadata": {},
   "outputs": [],
   "source": [
    "f = x->1.0\n",
    "qf(bitlist::AbstractVector{Int}) = f(QuanticsTCI.quantics_to_origcoord_fused(grid, bitlist))"
   ]
  },
  {
   "cell_type": "code",
   "execution_count": null,
   "metadata": {},
   "outputs": [],
   "source": [
    "x = ones(Int, R)\n",
    "@benchmark qf($x)"
   ]
  },
  {
   "cell_type": "code",
   "execution_count": null,
   "metadata": {},
   "outputs": [],
   "source": [
    "#@benchmark QuanticsTCI.quantics_to_origcoord_fused(grid, $x)\n",
    "@benchmark QuanticsTCI.quantics_to_index_fused(Val(B), Val(d), $x)"
   ]
  },
  {
   "cell_type": "code",
   "execution_count": null,
   "metadata": {},
   "outputs": [],
   "source": [
    "qf2 = QuanticsTCI.quantics_function_fused(Float64, grid, f)\n",
    "\n",
    "x = ones(Int, R)\n",
    "@benchmark qf2($x)"
   ]
  },
  {
   "cell_type": "code",
   "execution_count": null,
   "metadata": {},
   "outputs": [],
   "source": [
    "function testf(x, y, z)\n",
    "    res = zeros(MVector{1, Float64})\n",
    "    res .= x .+ y .+ z\n",
    "    return res\n",
    "end\n",
    "\n",
    "a = (1,)\n",
    "b = (1,)\n",
    "c = (1,)\n",
    "\n",
    "@benchmark testf($a, $b, $c)"
   ]
  },
  {
   "cell_type": "code",
   "execution_count": null,
   "metadata": {},
   "outputs": [],
   "source": [
    "B = 3\n",
    "R = 4\n",
    "for index in 1:B^R\n",
    "    bitlist = [mod(index, B^(R-i+1)) ÷ B^(R-i) + 1 for i in 1:R]\n",
    "    @show bitlist\n",
    "end"
   ]
  },
  {
   "cell_type": "code",
   "execution_count": null,
   "metadata": {},
   "outputs": [],
   "source": [
    "x = ones(Int, 10)\n",
    "y = ones(Int, 10)\n",
    "z = ones(Int, 20)\n",
    "xy = [x, y]\n",
    "@benchmark QuanticsTCI.deinterleave_dimensions!(xy, z)"
   ]
  },
  {
   "cell_type": "code",
   "execution_count": null,
   "metadata": {},
   "outputs": [],
   "source": [
    "n = 2\n",
    "np = 2^n\n",
    "for i1 in [1,2], i2 in 1:2\n",
    "    q1 = index_to_quantics(i1, n)\n",
    "    q2 = index_to_quantics(i2, n)\n",
    "    @test fuse_dimensions(q1, q2) == index_to_quantics_fused([i1, i2], n)\n",
    "    @test interleave_dimensions(q1, q2) == index_to_quantics_interleaved([i1, i2], n)\n",
    "    @show i1\n",
    "    @show q1\n",
    "    @show i2\n",
    "    @show q2\n",
    "    @show fuse_dimensions(q1, q2)\n",
    "end"
   ]
  },
  {
   "cell_type": "code",
   "execution_count": null,
   "metadata": {},
   "outputs": [],
   "source": [
    "n = 2\n",
    "i1, i2 = 1, 1\n",
    "q1 = index_to_quantics(i1, n)\n",
    "q2 = index_to_quantics(i2, n)\n",
    "@benchmark fuse_dimensions($q1, $q2)"
   ]
  },
  {
   "cell_type": "code",
   "execution_count": null,
   "metadata": {},
   "outputs": [],
   "source": [
    "result = ones(Int, n)\n",
    "@benchmark QuanticsTCI.fuse_dimensions!($result, $q1, $q2)"
   ]
  },
  {
   "cell_type": "code",
   "execution_count": null,
   "metadata": {},
   "outputs": [],
   "source": [
    "n = 10\n",
    "i1, i2 = 1, 1\n",
    "q1 = index_to_quantics(i1, n)\n",
    "q2 = index_to_quantics(i2, n)\n",
    "q12 = fuse_dimensions(q1, q2)"
   ]
  },
  {
   "cell_type": "code",
   "execution_count": null,
   "metadata": {},
   "outputs": [],
   "source": [
    "@benchmark split_dimensions(Val(2), q12, 2)"
   ]
  },
  {
   "cell_type": "code",
   "execution_count": null,
   "metadata": {},
   "outputs": [],
   "source": [
    "@test split_dimensions([1, 1, 1, 1], 1) == [[1, 1, 1, 1]]\n",
    "@test split_dimensions([1, 1, 1, 1], 3) == [[1, 1, 1, 1] for i in 1:3]\n",
    "@test split_dimensions([2, 2, 2, 2], 3) == [[2, 2, 2, 2], [1, 1, 1, 1], [1, 1, 1, 1]]\n",
    "@test split_dimensions([3, 3, 3, 3], 3) == [[1, 1, 1, 1], [2, 2, 2, 2], [1, 1, 1, 1]]\n",
    "@test split_dimensions([5, 5, 5, 5], 3) == [[1, 1, 1, 1], [1, 1, 1, 1], [2, 2, 2, 2]]\n",
    "@test split_dimensions([1, 2, 4, 8], 3) == [[1, 2, 2, 2], [1, 1, 2, 2], [1, 1, 1, 2]]"
   ]
  },
  {
   "cell_type": "code",
   "execution_count": null,
   "metadata": {},
   "outputs": [],
   "source": [
    "result = split_dimensions([1, 1, 1, 1], 3)\n",
    "@show result\n",
    "bitlist = [1, 1, 1, 1]\n",
    "@benchmark QuanticsTCI.split_dimensions!(Val(2), result, bitlist)"
   ]
  },
  {
   "cell_type": "code",
   "execution_count": null,
   "metadata": {},
   "outputs": [],
   "source": [
    "result"
   ]
  },
  {
   "cell_type": "code",
   "execution_count": null,
   "metadata": {},
   "outputs": [],
   "source": []
  }
 ],
 "metadata": {
  "kernelspec": {
   "display_name": "Julia 1.9.3",
   "language": "julia",
   "name": "julia-1.9"
  },
  "language_info": {
   "file_extension": ".jl",
   "mimetype": "application/julia",
   "name": "julia",
   "version": "1.9.3"
  }
 },
 "nbformat": 4,
 "nbformat_minor": 2
}
